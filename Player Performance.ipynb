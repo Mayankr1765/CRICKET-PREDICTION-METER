{
 "cells": [
  {
   "cell_type": "code",
   "execution_count": 1,
   "metadata": {},
   "outputs": [],
   "source": [
    "import pandas as pd\n",
    "import numpy as np\n",
    "import matplotlib.pyplot as plt\n",
    "%matplotlib inline"
   ]
  },
  {
   "cell_type": "code",
   "execution_count": 2,
   "metadata": {},
   "outputs": [],
   "source": [
    "data = pd.read_csv(\"playerlatest (2).csv\")"
   ]
  },
  {
   "cell_type": "code",
   "execution_count": 3,
   "metadata": {},
   "outputs": [
    {
     "data": {
      "text/html": [
       "<div>\n",
       "<style scoped>\n",
       "    .dataframe tbody tr th:only-of-type {\n",
       "        vertical-align: middle;\n",
       "    }\n",
       "\n",
       "    .dataframe tbody tr th {\n",
       "        vertical-align: top;\n",
       "    }\n",
       "\n",
       "    .dataframe thead th {\n",
       "        text-align: right;\n",
       "    }\n",
       "</style>\n",
       "<table border=\"1\" class=\"dataframe\">\n",
       "  <thead>\n",
       "    <tr style=\"text-align: right;\">\n",
       "      <th></th>\n",
       "      <th>Unnamed: 0</th>\n",
       "      <th>100s</th>\n",
       "      <th>4 Wickets in Inn</th>\n",
       "      <th>50s</th>\n",
       "      <th>Balls Faced</th>\n",
       "      <th>Balls_Average</th>\n",
       "      <th>Bat_Average</th>\n",
       "      <th>Bowl_Strike_rate</th>\n",
       "      <th>Ducks</th>\n",
       "      <th>Economy_Rate</th>\n",
       "      <th>...</th>\n",
       "      <th>Maidens</th>\n",
       "      <th>Matches</th>\n",
       "      <th>Not Outs</th>\n",
       "      <th>Opening Batting</th>\n",
       "      <th>Overs</th>\n",
       "      <th>Runs</th>\n",
       "      <th>Runs_Conceded</th>\n",
       "      <th>Strike Rate</th>\n",
       "      <th>Wickets</th>\n",
       "      <th>performance</th>\n",
       "    </tr>\n",
       "  </thead>\n",
       "  <tbody>\n",
       "    <tr>\n",
       "      <th>0</th>\n",
       "      <td>0</td>\n",
       "      <td>0</td>\n",
       "      <td>0</td>\n",
       "      <td>0</td>\n",
       "      <td>15</td>\n",
       "      <td>38.09</td>\n",
       "      <td>8.00</td>\n",
       "      <td>34.55</td>\n",
       "      <td>1</td>\n",
       "      <td>6.62</td>\n",
       "      <td>...</td>\n",
       "      <td>1</td>\n",
       "      <td>9</td>\n",
       "      <td>2</td>\n",
       "      <td>0</td>\n",
       "      <td>63.2</td>\n",
       "      <td>8</td>\n",
       "      <td>419.0</td>\n",
       "      <td>53.33</td>\n",
       "      <td>11</td>\n",
       "      <td>65</td>\n",
       "    </tr>\n",
       "    <tr>\n",
       "      <th>1</th>\n",
       "      <td>1</td>\n",
       "      <td>3</td>\n",
       "      <td>11</td>\n",
       "      <td>23</td>\n",
       "      <td>6252</td>\n",
       "      <td>31.84</td>\n",
       "      <td>29.71</td>\n",
       "      <td>40.67</td>\n",
       "      <td>14</td>\n",
       "      <td>4.70</td>\n",
       "      <td>...</td>\n",
       "      <td>106</td>\n",
       "      <td>265</td>\n",
       "      <td>57</td>\n",
       "      <td>3</td>\n",
       "      <td>1823.3</td>\n",
       "      <td>5080</td>\n",
       "      <td>8564.0</td>\n",
       "      <td>81.25</td>\n",
       "      <td>269</td>\n",
       "      <td>75</td>\n",
       "    </tr>\n",
       "    <tr>\n",
       "      <th>2</th>\n",
       "      <td>2</td>\n",
       "      <td>0</td>\n",
       "      <td>9</td>\n",
       "      <td>1</td>\n",
       "      <td>0</td>\n",
       "      <td>29.30</td>\n",
       "      <td>13.67</td>\n",
       "      <td>38.48</td>\n",
       "      <td>12</td>\n",
       "      <td>4.57</td>\n",
       "      <td>...</td>\n",
       "      <td>70</td>\n",
       "      <td>153</td>\n",
       "      <td>40</td>\n",
       "      <td>0</td>\n",
       "      <td>1327.3</td>\n",
       "      <td>779</td>\n",
       "      <td>6065.0</td>\n",
       "      <td>0.00</td>\n",
       "      <td>207</td>\n",
       "      <td>81</td>\n",
       "    </tr>\n",
       "    <tr>\n",
       "      <th>3</th>\n",
       "      <td>3</td>\n",
       "      <td>0</td>\n",
       "      <td>1</td>\n",
       "      <td>0</td>\n",
       "      <td>263</td>\n",
       "      <td>38.07</td>\n",
       "      <td>8.35</td>\n",
       "      <td>54.13</td>\n",
       "      <td>4</td>\n",
       "      <td>4.22</td>\n",
       "      <td>...</td>\n",
       "      <td>12</td>\n",
       "      <td>31</td>\n",
       "      <td>6</td>\n",
       "      <td>0</td>\n",
       "      <td>270.4</td>\n",
       "      <td>142</td>\n",
       "      <td>1142.0</td>\n",
       "      <td>53.99</td>\n",
       "      <td>30</td>\n",
       "      <td>61</td>\n",
       "    </tr>\n",
       "    <tr>\n",
       "      <th>4</th>\n",
       "      <td>4</td>\n",
       "      <td>0</td>\n",
       "      <td>0</td>\n",
       "      <td>0</td>\n",
       "      <td>166</td>\n",
       "      <td>51.75</td>\n",
       "      <td>20.57</td>\n",
       "      <td>54.00</td>\n",
       "      <td>2</td>\n",
       "      <td>5.75</td>\n",
       "      <td>...</td>\n",
       "      <td>2</td>\n",
       "      <td>9</td>\n",
       "      <td>1</td>\n",
       "      <td>0</td>\n",
       "      <td>72.0</td>\n",
       "      <td>144</td>\n",
       "      <td>414.0</td>\n",
       "      <td>86.75</td>\n",
       "      <td>8</td>\n",
       "      <td>42</td>\n",
       "    </tr>\n",
       "  </tbody>\n",
       "</table>\n",
       "<p>5 rows × 21 columns</p>\n",
       "</div>"
      ],
      "text/plain": [
       "   Unnamed: 0  100s  4 Wickets in Inn  50s  Balls Faced  Balls_Average  \\\n",
       "0           0     0                 0    0           15          38.09   \n",
       "1           1     3                11   23         6252          31.84   \n",
       "2           2     0                 9    1            0          29.30   \n",
       "3           3     0                 1    0          263          38.07   \n",
       "4           4     0                 0    0          166          51.75   \n",
       "\n",
       "   Bat_Average  Bowl_Strike_rate  Ducks  Economy_Rate  ...  Maidens  Matches  \\\n",
       "0         8.00             34.55      1          6.62  ...        1        9   \n",
       "1        29.71             40.67     14          4.70  ...      106      265   \n",
       "2        13.67             38.48     12          4.57  ...       70      153   \n",
       "3         8.35             54.13      4          4.22  ...       12       31   \n",
       "4        20.57             54.00      2          5.75  ...        2        9   \n",
       "\n",
       "   Not Outs  Opening Batting   Overs  Runs  Runs_Conceded  Strike Rate  \\\n",
       "0         2                0    63.2     8          419.0        53.33   \n",
       "1        57                3  1823.3  5080         8564.0        81.25   \n",
       "2        40                0  1327.3   779         6065.0         0.00   \n",
       "3         6                0   270.4   142         1142.0        53.99   \n",
       "4         1                0    72.0   144          414.0        86.75   \n",
       "\n",
       "   Wickets  performance  \n",
       "0       11           65  \n",
       "1      269           75  \n",
       "2      207           81  \n",
       "3       30           61  \n",
       "4        8           42  \n",
       "\n",
       "[5 rows x 21 columns]"
      ]
     },
     "execution_count": 3,
     "metadata": {},
     "output_type": "execute_result"
    }
   ],
   "source": [
    "data.head()"
   ]
  },
  {
   "cell_type": "code",
   "execution_count": 4,
   "metadata": {},
   "outputs": [
    {
     "name": "stdout",
     "output_type": "stream",
     "text": [
      "         Unnamed: 0  100s  4 Wickets in Inn  50s  Balls Faced  Balls_Average  \\\n",
      "Wickets                                                                        \n",
      "24               54     0                 0    1          465          36.58   \n",
      "24              242     0                 2    0          117          34.08   \n",
      "24              385     0                 1    0          152          29.71   \n",
      "24              458     0                 0    0          134          53.50   \n",
      "24              728     1                 0    6         1605          41.17   \n",
      "24              820     0                 0    0           91          40.83   \n",
      "24              855     0                 1    1          517          45.46   \n",
      "24              925     0                 0    1          113          26.75   \n",
      "24              937     0                 0    0           52          49.21   \n",
      "24             1505     0                 3    0          161          23.21   \n",
      "\n",
      "         Bat_Average  Bowl_Strike_rate  Ducks  Economy_Rate  Innings  Maidens  \\\n",
      "Wickets                                                                         \n",
      "24             14.93             51.25      6          4.28       29        8   \n",
      "24             33.67             31.54      0          6.48        8        3   \n",
      "24              8.00             48.00      1          3.71       11       19   \n",
      "24              5.89             66.29      4          4.84       22       24   \n",
      "24             29.11             52.33      4          4.72       52        4   \n",
      "24              5.20             54.50      0          4.50        8       10   \n",
      "24             32.13             49.46      1          5.51       22        4   \n",
      "24             16.83             33.58      1          4.78        7        5   \n",
      "24              9.00             59.58      2          4.96        9        9   \n",
      "24             16.67             28.42      2          4.90       11        4   \n",
      "\n",
      "         Matches  Not Outs  Opening Batting  Overs  Runs  Runs_Conceded  \\\n",
      "Wickets                                                                   \n",
      "24            34         2                0  205.0   403          878.0   \n",
      "24            16         5                0  126.1   101          818.0   \n",
      "24            22         4                0  181.0    56          713.0   \n",
      "24            34        13                0  265.1    53         1284.0   \n",
      "24            65         8                0  209.2  1281          988.0   \n",
      "24            26         3                0  218.0    26          980.0   \n",
      "24            36         7                0  197.5   482         1091.0   \n",
      "24            16         1                0  134.2   101          642.0   \n",
      "24            31         5                0  238.2    36         1181.0   \n",
      "24            14         2                0  113.4   150          557.0   \n",
      "\n",
      "         Strike Rate  performance  \n",
      "Wickets                            \n",
      "24             86.67           61  \n",
      "24             86.32           60  \n",
      "24             36.84           76  \n",
      "24             39.55           47  \n",
      "24             79.81           38  \n",
      "24             28.57           60  \n",
      "24             93.23           55  \n",
      "24             89.38           87  \n",
      "24             69.23           51  \n",
      "24             93.17           92  \n"
     ]
    }
   ],
   "source": [
    "d = pd.read_csv(\"playerlatest (2).csv\" , index_col=\"Wickets\")\n",
    "first = d.loc[24]\n",
    "print(first)"
   ]
  },
  {
   "cell_type": "code",
   "execution_count": 5,
   "metadata": {},
   "outputs": [
    {
     "name": "stdout",
     "output_type": "stream",
     "text": [
      "<class 'pandas.core.frame.DataFrame'>\n",
      "RangeIndex: 1599 entries, 0 to 1598\n",
      "Data columns (total 21 columns):\n",
      " #   Column            Non-Null Count  Dtype  \n",
      "---  ------            --------------  -----  \n",
      " 0   Unnamed: 0        1599 non-null   int64  \n",
      " 1   100s              1599 non-null   int64  \n",
      " 2   4 Wickets in Inn  1599 non-null   int64  \n",
      " 3   50s               1599 non-null   int64  \n",
      " 4   Balls Faced       1599 non-null   int64  \n",
      " 5   Balls_Average     1599 non-null   float64\n",
      " 6   Bat_Average       1599 non-null   float64\n",
      " 7   Bowl_Strike_rate  1599 non-null   float64\n",
      " 8   Ducks             1599 non-null   int64  \n",
      " 9   Economy_Rate      1599 non-null   float64\n",
      " 10  Innings           1599 non-null   int64  \n",
      " 11  Maidens           1599 non-null   int64  \n",
      " 12  Matches           1599 non-null   int64  \n",
      " 13  Not Outs          1599 non-null   int64  \n",
      " 14  Opening Batting   1599 non-null   int64  \n",
      " 15  Overs             1599 non-null   float64\n",
      " 16  Runs              1599 non-null   int64  \n",
      " 17  Runs_Conceded     1599 non-null   float64\n",
      " 18  Strike Rate       1599 non-null   float64\n",
      " 19  Wickets           1599 non-null   int64  \n",
      " 20  performance       1599 non-null   int64  \n",
      "dtypes: float64(7), int64(14)\n",
      "memory usage: 262.5 KB\n"
     ]
    }
   ],
   "source": [
    "data.info()"
   ]
  },
  {
   "cell_type": "code",
   "execution_count": 6,
   "metadata": {},
   "outputs": [
    {
     "data": {
      "text/html": [
       "<div>\n",
       "<style scoped>\n",
       "    .dataframe tbody tr th:only-of-type {\n",
       "        vertical-align: middle;\n",
       "    }\n",
       "\n",
       "    .dataframe tbody tr th {\n",
       "        vertical-align: top;\n",
       "    }\n",
       "\n",
       "    .dataframe thead th {\n",
       "        text-align: right;\n",
       "    }\n",
       "</style>\n",
       "<table border=\"1\" class=\"dataframe\">\n",
       "  <thead>\n",
       "    <tr style=\"text-align: right;\">\n",
       "      <th></th>\n",
       "      <th>Unnamed: 0</th>\n",
       "      <th>100s</th>\n",
       "      <th>4 Wickets in Inn</th>\n",
       "      <th>50s</th>\n",
       "      <th>Balls Faced</th>\n",
       "      <th>Balls_Average</th>\n",
       "      <th>Bat_Average</th>\n",
       "      <th>Bowl_Strike_rate</th>\n",
       "      <th>Ducks</th>\n",
       "      <th>Economy_Rate</th>\n",
       "      <th>...</th>\n",
       "      <th>Maidens</th>\n",
       "      <th>Matches</th>\n",
       "      <th>Not Outs</th>\n",
       "      <th>Opening Batting</th>\n",
       "      <th>Overs</th>\n",
       "      <th>Runs</th>\n",
       "      <th>Runs_Conceded</th>\n",
       "      <th>Strike Rate</th>\n",
       "      <th>Wickets</th>\n",
       "      <th>performance</th>\n",
       "    </tr>\n",
       "  </thead>\n",
       "  <tbody>\n",
       "    <tr>\n",
       "      <th>count</th>\n",
       "      <td>1599.000000</td>\n",
       "      <td>1599.000000</td>\n",
       "      <td>1599.000000</td>\n",
       "      <td>1599.000000</td>\n",
       "      <td>1599.000000</td>\n",
       "      <td>1599.000000</td>\n",
       "      <td>1599.000000</td>\n",
       "      <td>1599.000000</td>\n",
       "      <td>1599.000000</td>\n",
       "      <td>1599.000000</td>\n",
       "      <td>...</td>\n",
       "      <td>1599.000000</td>\n",
       "      <td>1599.000000</td>\n",
       "      <td>1599.000000</td>\n",
       "      <td>1599.000000</td>\n",
       "      <td>1599.000000</td>\n",
       "      <td>1599.000000</td>\n",
       "      <td>1599.000000</td>\n",
       "      <td>1599.000000</td>\n",
       "      <td>1599.000000</td>\n",
       "      <td>1599.000000</td>\n",
       "    </tr>\n",
       "    <tr>\n",
       "      <th>mean</th>\n",
       "      <td>799.000000</td>\n",
       "      <td>0.883677</td>\n",
       "      <td>0.898061</td>\n",
       "      <td>3.978737</td>\n",
       "      <td>984.630394</td>\n",
       "      <td>25.459887</td>\n",
       "      <td>16.995184</td>\n",
       "      <td>29.923552</td>\n",
       "      <td>2.717323</td>\n",
       "      <td>3.922295</td>\n",
       "      <td>...</td>\n",
       "      <td>9.063790</td>\n",
       "      <td>41.137586</td>\n",
       "      <td>6.041901</td>\n",
       "      <td>7.522201</td>\n",
       "      <td>164.840588</td>\n",
       "      <td>755.872420</td>\n",
       "      <td>782.416617</td>\n",
       "      <td>61.674797</td>\n",
       "      <td>24.280801</td>\n",
       "      <td>50.435272</td>\n",
       "    </tr>\n",
       "    <tr>\n",
       "      <th>std</th>\n",
       "      <td>461.735855</td>\n",
       "      <td>3.346338</td>\n",
       "      <td>2.438785</td>\n",
       "      <td>10.713567</td>\n",
       "      <td>2210.348893</td>\n",
       "      <td>26.845620</td>\n",
       "      <td>13.179514</td>\n",
       "      <td>30.301800</td>\n",
       "      <td>4.194596</td>\n",
       "      <td>2.846450</td>\n",
       "      <td>...</td>\n",
       "      <td>23.809048</td>\n",
       "      <td>63.835529</td>\n",
       "      <td>9.993245</td>\n",
       "      <td>27.745344</td>\n",
       "      <td>345.932352</td>\n",
       "      <td>1770.334164</td>\n",
       "      <td>1579.958715</td>\n",
       "      <td>29.088485</td>\n",
       "      <td>54.091709</td>\n",
       "      <td>28.188586</td>\n",
       "    </tr>\n",
       "    <tr>\n",
       "      <th>min</th>\n",
       "      <td>0.000000</td>\n",
       "      <td>0.000000</td>\n",
       "      <td>0.000000</td>\n",
       "      <td>0.000000</td>\n",
       "      <td>0.000000</td>\n",
       "      <td>0.000000</td>\n",
       "      <td>0.000000</td>\n",
       "      <td>0.000000</td>\n",
       "      <td>0.000000</td>\n",
       "      <td>0.000000</td>\n",
       "      <td>...</td>\n",
       "      <td>0.000000</td>\n",
       "      <td>1.000000</td>\n",
       "      <td>0.000000</td>\n",
       "      <td>0.000000</td>\n",
       "      <td>0.000000</td>\n",
       "      <td>0.000000</td>\n",
       "      <td>0.000000</td>\n",
       "      <td>0.000000</td>\n",
       "      <td>0.000000</td>\n",
       "      <td>0.000000</td>\n",
       "    </tr>\n",
       "    <tr>\n",
       "      <th>25%</th>\n",
       "      <td>399.500000</td>\n",
       "      <td>0.000000</td>\n",
       "      <td>0.000000</td>\n",
       "      <td>0.000000</td>\n",
       "      <td>39.000000</td>\n",
       "      <td>0.000000</td>\n",
       "      <td>6.670000</td>\n",
       "      <td>0.000000</td>\n",
       "      <td>0.000000</td>\n",
       "      <td>0.000000</td>\n",
       "      <td>...</td>\n",
       "      <td>0.000000</td>\n",
       "      <td>4.000000</td>\n",
       "      <td>0.000000</td>\n",
       "      <td>0.000000</td>\n",
       "      <td>3.050000</td>\n",
       "      <td>20.000000</td>\n",
       "      <td>0.000000</td>\n",
       "      <td>47.170000</td>\n",
       "      <td>0.000000</td>\n",
       "      <td>24.000000</td>\n",
       "    </tr>\n",
       "    <tr>\n",
       "      <th>50%</th>\n",
       "      <td>799.000000</td>\n",
       "      <td>0.000000</td>\n",
       "      <td>0.000000</td>\n",
       "      <td>0.000000</td>\n",
       "      <td>175.000000</td>\n",
       "      <td>27.140000</td>\n",
       "      <td>14.980000</td>\n",
       "      <td>32.670000</td>\n",
       "      <td>1.000000</td>\n",
       "      <td>4.710000</td>\n",
       "      <td>...</td>\n",
       "      <td>1.000000</td>\n",
       "      <td>15.000000</td>\n",
       "      <td>2.000000</td>\n",
       "      <td>0.000000</td>\n",
       "      <td>26.300000</td>\n",
       "      <td>110.000000</td>\n",
       "      <td>129.000000</td>\n",
       "      <td>64.230000</td>\n",
       "      <td>3.000000</td>\n",
       "      <td>57.000000</td>\n",
       "    </tr>\n",
       "    <tr>\n",
       "      <th>75%</th>\n",
       "      <td>1198.500000</td>\n",
       "      <td>0.000000</td>\n",
       "      <td>1.000000</td>\n",
       "      <td>2.000000</td>\n",
       "      <td>752.500000</td>\n",
       "      <td>38.080000</td>\n",
       "      <td>25.340000</td>\n",
       "      <td>46.360000</td>\n",
       "      <td>3.000000</td>\n",
       "      <td>5.500000</td>\n",
       "      <td>...</td>\n",
       "      <td>6.000000</td>\n",
       "      <td>49.000000</td>\n",
       "      <td>7.000000</td>\n",
       "      <td>2.000000</td>\n",
       "      <td>153.150000</td>\n",
       "      <td>559.000000</td>\n",
       "      <td>747.500000</td>\n",
       "      <td>79.305000</td>\n",
       "      <td>20.000000</td>\n",
       "      <td>73.000000</td>\n",
       "    </tr>\n",
       "    <tr>\n",
       "      <th>max</th>\n",
       "      <td>1598.000000</td>\n",
       "      <td>49.000000</td>\n",
       "      <td>27.000000</td>\n",
       "      <td>96.000000</td>\n",
       "      <td>21367.000000</td>\n",
       "      <td>201.000000</td>\n",
       "      <td>120.500000</td>\n",
       "      <td>222.000000</td>\n",
       "      <td>34.000000</td>\n",
       "      <td>26.000000</td>\n",
       "      <td>...</td>\n",
       "      <td>313.000000</td>\n",
       "      <td>463.000000</td>\n",
       "      <td>82.000000</td>\n",
       "      <td>383.000000</td>\n",
       "      <td>3135.100000</td>\n",
       "      <td>18426.000000</td>\n",
       "      <td>13632.000000</td>\n",
       "      <td>328.570000</td>\n",
       "      <td>534.000000</td>\n",
       "      <td>98.000000</td>\n",
       "    </tr>\n",
       "  </tbody>\n",
       "</table>\n",
       "<p>8 rows × 21 columns</p>\n",
       "</div>"
      ],
      "text/plain": [
       "        Unnamed: 0         100s  4 Wickets in Inn          50s   Balls Faced  \\\n",
       "count  1599.000000  1599.000000       1599.000000  1599.000000   1599.000000   \n",
       "mean    799.000000     0.883677          0.898061     3.978737    984.630394   \n",
       "std     461.735855     3.346338          2.438785    10.713567   2210.348893   \n",
       "min       0.000000     0.000000          0.000000     0.000000      0.000000   \n",
       "25%     399.500000     0.000000          0.000000     0.000000     39.000000   \n",
       "50%     799.000000     0.000000          0.000000     0.000000    175.000000   \n",
       "75%    1198.500000     0.000000          1.000000     2.000000    752.500000   \n",
       "max    1598.000000    49.000000         27.000000    96.000000  21367.000000   \n",
       "\n",
       "       Balls_Average  Bat_Average  Bowl_Strike_rate        Ducks  \\\n",
       "count    1599.000000  1599.000000       1599.000000  1599.000000   \n",
       "mean       25.459887    16.995184         29.923552     2.717323   \n",
       "std        26.845620    13.179514         30.301800     4.194596   \n",
       "min         0.000000     0.000000          0.000000     0.000000   \n",
       "25%         0.000000     6.670000          0.000000     0.000000   \n",
       "50%        27.140000    14.980000         32.670000     1.000000   \n",
       "75%        38.080000    25.340000         46.360000     3.000000   \n",
       "max       201.000000   120.500000        222.000000    34.000000   \n",
       "\n",
       "       Economy_Rate  ...      Maidens      Matches     Not Outs  \\\n",
       "count   1599.000000  ...  1599.000000  1599.000000  1599.000000   \n",
       "mean       3.922295  ...     9.063790    41.137586     6.041901   \n",
       "std        2.846450  ...    23.809048    63.835529     9.993245   \n",
       "min        0.000000  ...     0.000000     1.000000     0.000000   \n",
       "25%        0.000000  ...     0.000000     4.000000     0.000000   \n",
       "50%        4.710000  ...     1.000000    15.000000     2.000000   \n",
       "75%        5.500000  ...     6.000000    49.000000     7.000000   \n",
       "max       26.000000  ...   313.000000   463.000000    82.000000   \n",
       "\n",
       "       Opening Batting        Overs          Runs  Runs_Conceded  Strike Rate  \\\n",
       "count      1599.000000  1599.000000   1599.000000    1599.000000  1599.000000   \n",
       "mean          7.522201   164.840588    755.872420     782.416617    61.674797   \n",
       "std          27.745344   345.932352   1770.334164    1579.958715    29.088485   \n",
       "min           0.000000     0.000000      0.000000       0.000000     0.000000   \n",
       "25%           0.000000     3.050000     20.000000       0.000000    47.170000   \n",
       "50%           0.000000    26.300000    110.000000     129.000000    64.230000   \n",
       "75%           2.000000   153.150000    559.000000     747.500000    79.305000   \n",
       "max         383.000000  3135.100000  18426.000000   13632.000000   328.570000   \n",
       "\n",
       "           Wickets  performance  \n",
       "count  1599.000000  1599.000000  \n",
       "mean     24.280801    50.435272  \n",
       "std      54.091709    28.188586  \n",
       "min       0.000000     0.000000  \n",
       "25%       0.000000    24.000000  \n",
       "50%       3.000000    57.000000  \n",
       "75%      20.000000    73.000000  \n",
       "max     534.000000    98.000000  \n",
       "\n",
       "[8 rows x 21 columns]"
      ]
     },
     "execution_count": 6,
     "metadata": {},
     "output_type": "execute_result"
    }
   ],
   "source": [
    "data.describe()"
   ]
  },
  {
   "cell_type": "code",
   "execution_count": 7,
   "metadata": {},
   "outputs": [
    {
     "name": "stdout",
     "output_type": "stream",
     "text": [
      "Rows in train set: 1119\n",
      "Rows in test set: 480\n",
      "\n"
     ]
    }
   ],
   "source": [
    "from sklearn.model_selection import train_test_split\n",
    "train_set , test_set = train_test_split(data,test_size=0.3,random_state=42)\n",
    "print(f\"Rows in train set: {len(train_set)}\\nRows in test set: {len(test_set)}\\n\")\n",
    "                                    "
   ]
  },
  {
   "cell_type": "code",
   "execution_count": 8,
   "metadata": {},
   "outputs": [],
   "source": [
    "data = train_set.copy()\n",
    "data_label = train_set[\"performance\"].copy()\n",
    "data = train_set.drop(\"performance\" , axis=1)"
   ]
  },
  {
   "cell_type": "code",
   "execution_count": 9,
   "metadata": {},
   "outputs": [
    {
     "name": "stdout",
     "output_type": "stream",
     "text": [
      "<class 'pandas.core.frame.DataFrame'>\n",
      "Int64Index: 1119 entries, 925 to 1126\n",
      "Data columns (total 20 columns):\n",
      " #   Column            Non-Null Count  Dtype  \n",
      "---  ------            --------------  -----  \n",
      " 0   Unnamed: 0        1119 non-null   int64  \n",
      " 1   100s              1119 non-null   int64  \n",
      " 2   4 Wickets in Inn  1119 non-null   int64  \n",
      " 3   50s               1119 non-null   int64  \n",
      " 4   Balls Faced       1119 non-null   int64  \n",
      " 5   Balls_Average     1119 non-null   float64\n",
      " 6   Bat_Average       1119 non-null   float64\n",
      " 7   Bowl_Strike_rate  1119 non-null   float64\n",
      " 8   Ducks             1119 non-null   int64  \n",
      " 9   Economy_Rate      1119 non-null   float64\n",
      " 10  Innings           1119 non-null   int64  \n",
      " 11  Maidens           1119 non-null   int64  \n",
      " 12  Matches           1119 non-null   int64  \n",
      " 13  Not Outs          1119 non-null   int64  \n",
      " 14  Opening Batting   1119 non-null   int64  \n",
      " 15  Overs             1119 non-null   float64\n",
      " 16  Runs              1119 non-null   int64  \n",
      " 17  Runs_Conceded     1119 non-null   float64\n",
      " 18  Strike Rate       1119 non-null   float64\n",
      " 19  Wickets           1119 non-null   int64  \n",
      "dtypes: float64(7), int64(13)\n",
      "memory usage: 183.6 KB\n"
     ]
    }
   ],
   "source": [
    "data.info()"
   ]
  },
  {
   "cell_type": "code",
   "execution_count": 10,
   "metadata": {},
   "outputs": [
    {
     "data": {
      "text/plain": [
       "SimpleImputer(add_indicator=False, copy=True, fill_value=None,\n",
       "              missing_values=nan, strategy='median', verbose=0)"
      ]
     },
     "execution_count": 10,
     "metadata": {},
     "output_type": "execute_result"
    }
   ],
   "source": [
    "from sklearn.impute import SimpleImputer\n",
    "imputer = SimpleImputer(strategy=\"median\")\n",
    "imputer.fit(data)"
   ]
  },
  {
   "cell_type": "code",
   "execution_count": 11,
   "metadata": {},
   "outputs": [
    {
     "data": {
      "text/plain": [
       "array([810.  ,   0.  ,   0.  ,   0.  , 169.  ,  27.61,  14.63,  33.07,\n",
       "         1.  ,   4.74,  11.  ,   1.  ,  15.  ,   2.  ,   0.  ,  27.  ,\n",
       "       108.  , 131.  ,  64.64,   3.  ])"
      ]
     },
     "execution_count": 11,
     "metadata": {},
     "output_type": "execute_result"
    }
   ],
   "source": [
    "imputer.statistics_"
   ]
  },
  {
   "cell_type": "code",
   "execution_count": 12,
   "metadata": {},
   "outputs": [],
   "source": [
    "X = imputer.transform(data)"
   ]
  },
  {
   "cell_type": "code",
   "execution_count": 13,
   "metadata": {},
   "outputs": [],
   "source": [
    "data_tr = pd.DataFrame(X , columns=data.columns)"
   ]
  },
  {
   "cell_type": "code",
   "execution_count": 14,
   "metadata": {},
   "outputs": [
    {
     "data": {
      "text/html": [
       "<div>\n",
       "<style scoped>\n",
       "    .dataframe tbody tr th:only-of-type {\n",
       "        vertical-align: middle;\n",
       "    }\n",
       "\n",
       "    .dataframe tbody tr th {\n",
       "        vertical-align: top;\n",
       "    }\n",
       "\n",
       "    .dataframe thead th {\n",
       "        text-align: right;\n",
       "    }\n",
       "</style>\n",
       "<table border=\"1\" class=\"dataframe\">\n",
       "  <thead>\n",
       "    <tr style=\"text-align: right;\">\n",
       "      <th></th>\n",
       "      <th>Unnamed: 0</th>\n",
       "      <th>100s</th>\n",
       "      <th>4 Wickets in Inn</th>\n",
       "      <th>50s</th>\n",
       "      <th>Balls Faced</th>\n",
       "      <th>Balls_Average</th>\n",
       "      <th>Bat_Average</th>\n",
       "      <th>Bowl_Strike_rate</th>\n",
       "      <th>Ducks</th>\n",
       "      <th>Economy_Rate</th>\n",
       "      <th>Innings</th>\n",
       "      <th>Maidens</th>\n",
       "      <th>Matches</th>\n",
       "      <th>Not Outs</th>\n",
       "      <th>Opening Batting</th>\n",
       "      <th>Overs</th>\n",
       "      <th>Runs</th>\n",
       "      <th>Runs_Conceded</th>\n",
       "      <th>Strike Rate</th>\n",
       "      <th>Wickets</th>\n",
       "    </tr>\n",
       "  </thead>\n",
       "  <tbody>\n",
       "    <tr>\n",
       "      <th>count</th>\n",
       "      <td>1119.000000</td>\n",
       "      <td>1119.000000</td>\n",
       "      <td>1119.000000</td>\n",
       "      <td>1119.000000</td>\n",
       "      <td>1119.000000</td>\n",
       "      <td>1119.000000</td>\n",
       "      <td>1119.000000</td>\n",
       "      <td>1119.000000</td>\n",
       "      <td>1119.000000</td>\n",
       "      <td>1119.000000</td>\n",
       "      <td>1119.000000</td>\n",
       "      <td>1119.000000</td>\n",
       "      <td>1119.000000</td>\n",
       "      <td>1119.000000</td>\n",
       "      <td>1119.000000</td>\n",
       "      <td>1119.000000</td>\n",
       "      <td>1119.000000</td>\n",
       "      <td>1119.000000</td>\n",
       "      <td>1119.000000</td>\n",
       "      <td>1119.000000</td>\n",
       "    </tr>\n",
       "    <tr>\n",
       "      <th>mean</th>\n",
       "      <td>800.915103</td>\n",
       "      <td>0.855228</td>\n",
       "      <td>0.881144</td>\n",
       "      <td>3.787310</td>\n",
       "      <td>946.191242</td>\n",
       "      <td>25.628239</td>\n",
       "      <td>16.961868</td>\n",
       "      <td>30.045371</td>\n",
       "      <td>2.587131</td>\n",
       "      <td>3.985094</td>\n",
       "      <td>31.304736</td>\n",
       "      <td>8.654155</td>\n",
       "      <td>39.679178</td>\n",
       "      <td>5.840929</td>\n",
       "      <td>7.596068</td>\n",
       "      <td>159.965773</td>\n",
       "      <td>725.584450</td>\n",
       "      <td>762.772565</td>\n",
       "      <td>62.088195</td>\n",
       "      <td>23.529044</td>\n",
       "    </tr>\n",
       "    <tr>\n",
       "      <th>std</th>\n",
       "      <td>461.045942</td>\n",
       "      <td>3.212585</td>\n",
       "      <td>2.438362</td>\n",
       "      <td>10.330209</td>\n",
       "      <td>2136.280375</td>\n",
       "      <td>26.288936</td>\n",
       "      <td>13.516323</td>\n",
       "      <td>29.637551</td>\n",
       "      <td>4.010636</td>\n",
       "      <td>2.775638</td>\n",
       "      <td>53.125843</td>\n",
       "      <td>22.144087</td>\n",
       "      <td>61.510720</td>\n",
       "      <td>9.872247</td>\n",
       "      <td>28.568022</td>\n",
       "      <td>336.220426</td>\n",
       "      <td>1706.044232</td>\n",
       "      <td>1540.976525</td>\n",
       "      <td>30.016583</td>\n",
       "      <td>52.671178</td>\n",
       "    </tr>\n",
       "    <tr>\n",
       "      <th>min</th>\n",
       "      <td>0.000000</td>\n",
       "      <td>0.000000</td>\n",
       "      <td>0.000000</td>\n",
       "      <td>0.000000</td>\n",
       "      <td>0.000000</td>\n",
       "      <td>0.000000</td>\n",
       "      <td>0.000000</td>\n",
       "      <td>0.000000</td>\n",
       "      <td>0.000000</td>\n",
       "      <td>0.000000</td>\n",
       "      <td>0.000000</td>\n",
       "      <td>0.000000</td>\n",
       "      <td>1.000000</td>\n",
       "      <td>0.000000</td>\n",
       "      <td>0.000000</td>\n",
       "      <td>0.000000</td>\n",
       "      <td>0.000000</td>\n",
       "      <td>0.000000</td>\n",
       "      <td>0.000000</td>\n",
       "      <td>0.000000</td>\n",
       "    </tr>\n",
       "    <tr>\n",
       "      <th>25%</th>\n",
       "      <td>403.500000</td>\n",
       "      <td>0.000000</td>\n",
       "      <td>0.000000</td>\n",
       "      <td>0.000000</td>\n",
       "      <td>38.500000</td>\n",
       "      <td>0.000000</td>\n",
       "      <td>6.615000</td>\n",
       "      <td>0.000000</td>\n",
       "      <td>0.000000</td>\n",
       "      <td>0.000000</td>\n",
       "      <td>3.000000</td>\n",
       "      <td>0.000000</td>\n",
       "      <td>4.000000</td>\n",
       "      <td>0.000000</td>\n",
       "      <td>0.000000</td>\n",
       "      <td>4.000000</td>\n",
       "      <td>20.000000</td>\n",
       "      <td>0.000000</td>\n",
       "      <td>47.795000</td>\n",
       "      <td>0.000000</td>\n",
       "    </tr>\n",
       "    <tr>\n",
       "      <th>50%</th>\n",
       "      <td>810.000000</td>\n",
       "      <td>0.000000</td>\n",
       "      <td>0.000000</td>\n",
       "      <td>0.000000</td>\n",
       "      <td>169.000000</td>\n",
       "      <td>27.610000</td>\n",
       "      <td>14.630000</td>\n",
       "      <td>33.070000</td>\n",
       "      <td>1.000000</td>\n",
       "      <td>4.740000</td>\n",
       "      <td>11.000000</td>\n",
       "      <td>1.000000</td>\n",
       "      <td>15.000000</td>\n",
       "      <td>2.000000</td>\n",
       "      <td>0.000000</td>\n",
       "      <td>27.000000</td>\n",
       "      <td>108.000000</td>\n",
       "      <td>131.000000</td>\n",
       "      <td>64.640000</td>\n",
       "      <td>3.000000</td>\n",
       "    </tr>\n",
       "    <tr>\n",
       "      <th>75%</th>\n",
       "      <td>1188.000000</td>\n",
       "      <td>0.000000</td>\n",
       "      <td>1.000000</td>\n",
       "      <td>2.000000</td>\n",
       "      <td>738.500000</td>\n",
       "      <td>38.525000</td>\n",
       "      <td>25.255000</td>\n",
       "      <td>46.450000</td>\n",
       "      <td>3.000000</td>\n",
       "      <td>5.555000</td>\n",
       "      <td>36.000000</td>\n",
       "      <td>6.000000</td>\n",
       "      <td>49.000000</td>\n",
       "      <td>7.000000</td>\n",
       "      <td>2.000000</td>\n",
       "      <td>151.650000</td>\n",
       "      <td>572.000000</td>\n",
       "      <td>737.500000</td>\n",
       "      <td>79.565000</td>\n",
       "      <td>20.000000</td>\n",
       "    </tr>\n",
       "    <tr>\n",
       "      <th>max</th>\n",
       "      <td>1598.000000</td>\n",
       "      <td>49.000000</td>\n",
       "      <td>27.000000</td>\n",
       "      <td>96.000000</td>\n",
       "      <td>21367.000000</td>\n",
       "      <td>201.000000</td>\n",
       "      <td>120.500000</td>\n",
       "      <td>222.000000</td>\n",
       "      <td>34.000000</td>\n",
       "      <td>24.000000</td>\n",
       "      <td>452.000000</td>\n",
       "      <td>277.000000</td>\n",
       "      <td>463.000000</td>\n",
       "      <td>82.000000</td>\n",
       "      <td>383.000000</td>\n",
       "      <td>3135.100000</td>\n",
       "      <td>18426.000000</td>\n",
       "      <td>12326.000000</td>\n",
       "      <td>328.570000</td>\n",
       "      <td>534.000000</td>\n",
       "    </tr>\n",
       "  </tbody>\n",
       "</table>\n",
       "</div>"
      ],
      "text/plain": [
       "        Unnamed: 0         100s  4 Wickets in Inn          50s   Balls Faced  \\\n",
       "count  1119.000000  1119.000000       1119.000000  1119.000000   1119.000000   \n",
       "mean    800.915103     0.855228          0.881144     3.787310    946.191242   \n",
       "std     461.045942     3.212585          2.438362    10.330209   2136.280375   \n",
       "min       0.000000     0.000000          0.000000     0.000000      0.000000   \n",
       "25%     403.500000     0.000000          0.000000     0.000000     38.500000   \n",
       "50%     810.000000     0.000000          0.000000     0.000000    169.000000   \n",
       "75%    1188.000000     0.000000          1.000000     2.000000    738.500000   \n",
       "max    1598.000000    49.000000         27.000000    96.000000  21367.000000   \n",
       "\n",
       "       Balls_Average  Bat_Average  Bowl_Strike_rate        Ducks  \\\n",
       "count    1119.000000  1119.000000       1119.000000  1119.000000   \n",
       "mean       25.628239    16.961868         30.045371     2.587131   \n",
       "std        26.288936    13.516323         29.637551     4.010636   \n",
       "min         0.000000     0.000000          0.000000     0.000000   \n",
       "25%         0.000000     6.615000          0.000000     0.000000   \n",
       "50%        27.610000    14.630000         33.070000     1.000000   \n",
       "75%        38.525000    25.255000         46.450000     3.000000   \n",
       "max       201.000000   120.500000        222.000000    34.000000   \n",
       "\n",
       "       Economy_Rate      Innings      Maidens      Matches     Not Outs  \\\n",
       "count   1119.000000  1119.000000  1119.000000  1119.000000  1119.000000   \n",
       "mean       3.985094    31.304736     8.654155    39.679178     5.840929   \n",
       "std        2.775638    53.125843    22.144087    61.510720     9.872247   \n",
       "min        0.000000     0.000000     0.000000     1.000000     0.000000   \n",
       "25%        0.000000     3.000000     0.000000     4.000000     0.000000   \n",
       "50%        4.740000    11.000000     1.000000    15.000000     2.000000   \n",
       "75%        5.555000    36.000000     6.000000    49.000000     7.000000   \n",
       "max       24.000000   452.000000   277.000000   463.000000    82.000000   \n",
       "\n",
       "       Opening Batting        Overs          Runs  Runs_Conceded  Strike Rate  \\\n",
       "count      1119.000000  1119.000000   1119.000000    1119.000000  1119.000000   \n",
       "mean          7.596068   159.965773    725.584450     762.772565    62.088195   \n",
       "std          28.568022   336.220426   1706.044232    1540.976525    30.016583   \n",
       "min           0.000000     0.000000      0.000000       0.000000     0.000000   \n",
       "25%           0.000000     4.000000     20.000000       0.000000    47.795000   \n",
       "50%           0.000000    27.000000    108.000000     131.000000    64.640000   \n",
       "75%           2.000000   151.650000    572.000000     737.500000    79.565000   \n",
       "max         383.000000  3135.100000  18426.000000   12326.000000   328.570000   \n",
       "\n",
       "           Wickets  \n",
       "count  1119.000000  \n",
       "mean     23.529044  \n",
       "std      52.671178  \n",
       "min       0.000000  \n",
       "25%       0.000000  \n",
       "50%       3.000000  \n",
       "75%      20.000000  \n",
       "max     534.000000  "
      ]
     },
     "execution_count": 14,
     "metadata": {},
     "output_type": "execute_result"
    }
   ],
   "source": [
    "data_tr.describe()"
   ]
  },
  {
   "cell_type": "markdown",
   "metadata": {},
   "source": [
    "## Creating Pipeline"
   ]
  },
  {
   "cell_type": "code",
   "execution_count": 15,
   "metadata": {},
   "outputs": [],
   "source": [
    "from sklearn.pipeline import Pipeline\n",
    "from sklearn.preprocessing import StandardScaler\n",
    "my_pipeline = Pipeline([\n",
    "    ('imputer',SimpleImputer(strategy=\"median\")),\n",
    "    \n",
    "    \n",
    "])"
   ]
  },
  {
   "cell_type": "code",
   "execution_count": 16,
   "metadata": {},
   "outputs": [],
   "source": [
    "data_num_tr = my_pipeline.fit_transform(data)"
   ]
  },
  {
   "cell_type": "markdown",
   "metadata": {},
   "source": [
    "## Selecting Desired Model"
   ]
  },
  {
   "cell_type": "code",
   "execution_count": 17,
   "metadata": {},
   "outputs": [
    {
     "data": {
      "text/plain": [
       "RandomForestRegressor(bootstrap=True, ccp_alpha=0.0, criterion='mse',\n",
       "                      max_depth=None, max_features='auto', max_leaf_nodes=None,\n",
       "                      max_samples=None, min_impurity_decrease=0.0,\n",
       "                      min_impurity_split=None, min_samples_leaf=1,\n",
       "                      min_samples_split=2, min_weight_fraction_leaf=0.0,\n",
       "                      n_estimators=100, n_jobs=None, oob_score=False,\n",
       "                      random_state=None, verbose=0, warm_start=False)"
      ]
     },
     "execution_count": 17,
     "metadata": {},
     "output_type": "execute_result"
    }
   ],
   "source": [
    "from sklearn.linear_model import LinearRegression\n",
    "from sklearn.tree import DecisionTreeRegressor\n",
    "from sklearn.ensemble import RandomForestRegressor\n",
    "#model = LinearRegression()\n",
    "#model = DecisionTreeRegressor()\n",
    "model = RandomForestRegressor()\n",
    "model.fit(data, data_label)"
   ]
  },
  {
   "cell_type": "code",
   "execution_count": 18,
   "metadata": {},
   "outputs": [],
   "source": [
    "some_data = data.iloc[:5]"
   ]
  },
  {
   "cell_type": "code",
   "execution_count": 19,
   "metadata": {},
   "outputs": [],
   "source": [
    "some_label = data_label.iloc[:5]"
   ]
  },
  {
   "cell_type": "code",
   "execution_count": 20,
   "metadata": {},
   "outputs": [],
   "source": [
    "prepared_data = my_pipeline.transform(some_data)"
   ]
  },
  {
   "cell_type": "code",
   "execution_count": 21,
   "metadata": {},
   "outputs": [
    {
     "data": {
      "text/plain": [
       "array([86.46, 49.06, 27.54, 61.82, 13.28])"
      ]
     },
     "execution_count": 21,
     "metadata": {},
     "output_type": "execute_result"
    }
   ],
   "source": [
    "model.predict(prepared_data)"
   ]
  },
  {
   "cell_type": "code",
   "execution_count": 22,
   "metadata": {},
   "outputs": [
    {
     "data": {
      "text/plain": [
       "[87, 48, 24, 66, 10]"
      ]
     },
     "execution_count": 22,
     "metadata": {},
     "output_type": "execute_result"
    }
   ],
   "source": [
    "list(some_label)"
   ]
  },
  {
   "cell_type": "markdown",
   "metadata": {},
   "source": [
    "## Evaluating the model"
   ]
  },
  {
   "cell_type": "code",
   "execution_count": 23,
   "metadata": {},
   "outputs": [],
   "source": [
    "from sklearn.metrics import mean_squared_error\n",
    "data_prediction = model.predict(data_num_tr)\n",
    "mse = mean_squared_error(data_label , data_prediction)\n",
    "rmse = np.sqrt(mse)"
   ]
  },
  {
   "cell_type": "code",
   "execution_count": 24,
   "metadata": {},
   "outputs": [
    {
     "data": {
      "text/plain": [
       "3.0579322860311575"
      ]
     },
     "execution_count": 24,
     "metadata": {},
     "output_type": "execute_result"
    }
   ],
   "source": [
    "rmse"
   ]
  },
  {
   "cell_type": "markdown",
   "metadata": {},
   "source": [
    "## Cross-Validation"
   ]
  },
  {
   "cell_type": "code",
   "execution_count": 25,
   "metadata": {},
   "outputs": [],
   "source": [
    "from sklearn.model_selection import cross_val_score\n",
    "scores = cross_val_score(model,data_num_tr,data_label,scoring=\"neg_mean_squared_error\",cv=10)\n",
    "rmse_scores = np.sqrt(-scores)"
   ]
  },
  {
   "cell_type": "code",
   "execution_count": 26,
   "metadata": {},
   "outputs": [
    {
     "data": {
      "text/plain": [
       "array([ 6.05213532,  5.44647666, 11.52673643,  6.13749949,  5.97964434,\n",
       "        9.0982068 ,  4.97896109, 10.94121802, 13.28968837,  4.76613807])"
      ]
     },
     "execution_count": 26,
     "metadata": {},
     "output_type": "execute_result"
    }
   ],
   "source": [
    "rmse_scores"
   ]
  },
  {
   "cell_type": "markdown",
   "metadata": {},
   "source": [
    "def print_scores(scores):\n",
    "    print(\"scores:\",scores)\n",
    "    print(\"Mean:\",scores.mean())\n",
    "    print(\"Standard Deviation:\", scores.std())"
   ]
  },
  {
   "cell_type": "code",
   "execution_count": 27,
   "metadata": {},
   "outputs": [
    {
     "name": "stdout",
     "output_type": "stream",
     "text": [
      "[ 6.05213532  5.44647666 11.52673643  6.13749949  5.97964434  9.0982068\n",
      "  4.97896109 10.94121802 13.28968837  4.76613807]\n"
     ]
    }
   ],
   "source": [
    "print(rmse_scores)"
   ]
  },
  {
   "cell_type": "markdown",
   "metadata": {},
   "source": [
    "## Saving The Model"
   ]
  },
  {
   "cell_type": "code",
   "execution_count": 28,
   "metadata": {},
   "outputs": [
    {
     "data": {
      "text/plain": [
       "['Dragon.joblib']"
      ]
     },
     "execution_count": 28,
     "metadata": {},
     "output_type": "execute_result"
    }
   ],
   "source": [
    "from joblib import dump,load\n",
    "dump(model,'Dragon.joblib')"
   ]
  },
  {
   "cell_type": "markdown",
   "metadata": {},
   "source": [
    "## Testing The Model"
   ]
  },
  {
   "cell_type": "code",
   "execution_count": 29,
   "metadata": {},
   "outputs": [],
   "source": [
    "X_test = test_set.drop(\"performance\",axis=1)\n",
    "Y_test = test_set[\"performance\"].copy()\n",
    "X_test_prepared = my_pipeline.transform(X_test)\n",
    "final_predictions = model.predict(X_test_prepared)\n",
    "final_mse = mean_squared_error(Y_test, final_predictions)\n",
    "final_rmse = np.sqrt(final_mse)\n",
    "##print(final_predictions , list(Y_test))"
   ]
  },
  {
   "cell_type": "code",
   "execution_count": 30,
   "metadata": {},
   "outputs": [
    {
     "data": {
      "text/plain": [
       "9.826278585168106"
      ]
     },
     "execution_count": 30,
     "metadata": {},
     "output_type": "execute_result"
    }
   ],
   "source": [
    "final_rmse"
   ]
  },
  {
   "cell_type": "code",
   "execution_count": 31,
   "metadata": {},
   "outputs": [
    {
     "data": {
      "text/plain": [
       "array([925.  ,   0.  ,   0.  ,   1.  , 113.  ,  26.75,  16.83,  33.58,\n",
       "         1.  ,   4.78,   7.  ,   5.  ,  16.  ,   1.  ,   0.  , 134.2 ,\n",
       "       101.  , 642.  ,  89.38,  24.  ])"
      ]
     },
     "execution_count": 31,
     "metadata": {},
     "output_type": "execute_result"
    }
   ],
   "source": [
    "prepared_data[0]"
   ]
  },
  {
   "cell_type": "code",
   "execution_count": null,
   "metadata": {},
   "outputs": [],
   "source": []
  }
 ],
 "metadata": {
  "kernelspec": {
   "display_name": "Python 3",
   "language": "python",
   "name": "python3"
  },
  "language_info": {
   "codemirror_mode": {
    "name": "ipython",
    "version": 3
   },
   "file_extension": ".py",
   "mimetype": "text/x-python",
   "name": "python",
   "nbconvert_exporter": "python",
   "pygments_lexer": "ipython3",
   "version": "3.7.6"
  }
 },
 "nbformat": 4,
 "nbformat_minor": 4
}
